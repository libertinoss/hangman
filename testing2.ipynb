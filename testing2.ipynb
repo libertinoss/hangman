{
 "cells": [
  {
   "cell_type": "code",
   "execution_count": 7,
   "metadata": {},
   "outputs": [
    {
     "name": "stdout",
     "output_type": "stream",
     "text": [
      "Would you like to play easy, medium, hard or extreme mode? \n",
      "Please type E, M, H or X!\n"
     ]
    }
   ],
   "source": [
    "print(\"Would you like to play easy, medium, hard or extreme mode? \\nPlease type E, M, H or X!\")"
   ]
  },
  {
   "cell_type": "code",
   "execution_count": 10,
   "metadata": {},
   "outputs": [
    {
     "ename": "IndentationError",
     "evalue": "unindent does not match any outer indentation level (<tokenize>, line 11)",
     "output_type": "error",
     "traceback": [
      "\u001b[0;36m  File \u001b[0;32m<tokenize>:11\u001b[0;36m\u001b[0m\n\u001b[0;31m    user=mode_menu()\u001b[0m\n\u001b[0m    ^\u001b[0m\n\u001b[0;31mIndentationError\u001b[0m\u001b[0;31m:\u001b[0m unindent does not match any outer indentation level\n"
     ]
    }
   ],
   "source": [
    "def mode_menu():\n",
    "    while True:\n",
    "        user_mode = input(\"Would you like to guess an animal, vegetable or mineral? \\nPlease type A, V or M! \").lower()\n",
    "        if user_mode not in ['a','v','m']:\n",
    "            print(\"Invalid input, please A, V or M!\")\n",
    "        else:\n",
    "            word_list = (hangman_words_dict[user_mode])\n",
    "            print(word_list)\n",
    "            break\n",
    "\n",
    " usertest = mode_menu()       "
   ]
  },
  {
   "cell_type": "code",
   "execution_count": null,
   "metadata": {},
   "outputs": [],
   "source": []
  }
 ],
 "metadata": {
  "kernelspec": {
   "display_name": "base",
   "language": "python",
   "name": "python3"
  },
  "language_info": {
   "codemirror_mode": {
    "name": "ipython",
    "version": 3
   },
   "file_extension": ".py",
   "mimetype": "text/x-python",
   "name": "python",
   "nbconvert_exporter": "python",
   "pygments_lexer": "ipython3",
   "version": "3.11.4"
  }
 },
 "nbformat": 4,
 "nbformat_minor": 2
}
